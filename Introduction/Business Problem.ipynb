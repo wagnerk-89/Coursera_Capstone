{
    "cells": [
        {
            "metadata": {
                "collapsed": true
            },
            "cell_type": "markdown",
            "source": "## Coursera Capstone<br>\n### IBM Applied Data Science Capstone<br>\n\n#### Opening a New Healthy Fast-Food Restaurant in Houston, United States<br>\n\nBy: Kimberley Wagner<br>\nMarch 2021<br>\n\n#### Introduction<br>\nMany people have the goal of improving their health through diet. However, with the challenges of balancing home and work life, it can be difficult to find time to make healthy food at home and many people turn to fast-food restaurants. Providing nutritious fast-food options allows people to meet their goals of improving their diets without the time demands of home cooking. Health focused fast-food restaurants can be a lucrative business, especially in neighbourhoods where healthy convenient options are limited. Opening a restaurant is, however, always a risky decision and a thorough analysis should be undertaken to increase the chance of sustaining a successful business. The location of the restaurant is one of the most important decisions that will determine whether the business will be a success or failure.\n\n#### Business Problem\n\nThe objective of this capstone project is to analyse and select the best locations in the city of Houston, Texas to open a new healthy fast-food restaurant. Using data science methodology and machine learning techniques like clustering, this project aims to provide solutions to answer the business question: In the city of Houston, Texas, if a potential owner is looking to open a new healthy fast-food restaurant, where would you recommend that they open it?\n\n#### Target Audience\n\nThis project is particularly useful to potential owners and investors looking to open or invest in a restaurant in Houston, Texas. As the rate of obesity continues to increase across the country, and especially in the Southern states like Texas, the demand for convenient and healthy options increases. This provides opportunity for investors to fill the gap of nutritious fast food options in a neighbourhood that might be dominated by unhealthy, meat-dominated, or slow food options only.\n"
        }
    ],
    "metadata": {
        "kernelspec": {
            "name": "python3",
            "display_name": "Python 3.7",
            "language": "python"
        },
        "language_info": {
            "name": "python",
            "version": "3.7.9",
            "mimetype": "text/x-python",
            "codemirror_mode": {
                "name": "ipython",
                "version": 3
            },
            "pygments_lexer": "ipython3",
            "nbconvert_exporter": "python",
            "file_extension": ".py"
        }
    },
    "nbformat": 4,
    "nbformat_minor": 1
}