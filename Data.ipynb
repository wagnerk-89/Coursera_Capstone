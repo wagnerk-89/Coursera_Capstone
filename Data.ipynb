{
    "cells": [
        {
            "metadata": {
                "collapsed": true
            },
            "cell_type": "markdown",
            "source": "#### Data\n\nTo solve the problem, we will need the following data:<br>\n- List of neighbourhoods in Houston. This defines the scope of this project which is confined to the city of Houston\n- Latitude and longitude coordinates of those neighbourhoods. This is required in order to plot the map and also to get the venue data\n- Venue data, particularly data related to healthy restaurants. We will use this data to perform clustering on the neighbourhoods\n\n#### Sources of data and methods to extract them\n\nWikipedia has a list of neighbourhoods in Houston, with a total of 88 neighbourhoods (https://en.wikipedia.org/wiki/List_of_neighborhoods_in_Houston). I will use web scraping techniques to extract the data from the Wikipedia page with the help of Python requests. Then I will use the Python Geocoder package to get the latitude and longitudes of the neighbourhoods. Following this, I will use the Foursquare API to get the venue data for the neighbourhoods.\n\nThis project will use many data science skills including web scraping, working with API, data cleaning, data wrangling, machine learning, and map visualization. In the next section, the I will present the methodology used to analyze the data.\n"
        }
    ],
    "metadata": {
        "kernelspec": {
            "name": "python3",
            "display_name": "Python 3.7",
            "language": "python"
        },
        "language_info": {
            "name": "python",
            "version": "3.7.9",
            "mimetype": "text/x-python",
            "codemirror_mode": {
                "name": "ipython",
                "version": 3
            },
            "pygments_lexer": "ipython3",
            "nbconvert_exporter": "python",
            "file_extension": ".py"
        }
    },
    "nbformat": 4,
    "nbformat_minor": 1
}