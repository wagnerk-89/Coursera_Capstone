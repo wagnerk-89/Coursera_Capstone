{
    "cells": [
        {
            "metadata": {},
            "cell_type": "markdown",
            "source": "## Assignment Part 1"
        },
        {
            "metadata": {},
            "cell_type": "code",
            "source": "import pandas as pd",
            "execution_count": 1,
            "outputs": []
        },
        {
            "metadata": {},
            "cell_type": "markdown",
            "source": "__Read in table__"
        },
        {
            "metadata": {
                "scrolled": true
            },
            "cell_type": "code",
            "source": "df = pd.read_html('https://en.wikipedia.org/wiki/List_of_postal_codes_of_Canada:_M')[0]\ndf",
            "execution_count": 2,
            "outputs": [
                {
                    "output_type": "execute_result",
                    "execution_count": 2,
                    "data": {
                        "text/plain": "    Postal Code           Borough  \\\n0           M1A      Not assigned   \n1           M2A      Not assigned   \n2           M3A        North York   \n3           M4A        North York   \n4           M5A  Downtown Toronto   \n..          ...               ...   \n175         M5Z      Not assigned   \n176         M6Z      Not assigned   \n177         M7Z      Not assigned   \n178         M8Z         Etobicoke   \n179         M9Z      Not assigned   \n\n                                         Neighbourhood  \n0                                         Not assigned  \n1                                         Not assigned  \n2                                            Parkwoods  \n3                                     Victoria Village  \n4                            Regent Park, Harbourfront  \n..                                                 ...  \n175                                       Not assigned  \n176                                       Not assigned  \n177                                       Not assigned  \n178  Mimico NW, The Queensway West, South of Bloor,...  \n179                                       Not assigned  \n\n[180 rows x 3 columns]",
                        "text/html": "<div>\n<style scoped>\n    .dataframe tbody tr th:only-of-type {\n        vertical-align: middle;\n    }\n\n    .dataframe tbody tr th {\n        vertical-align: top;\n    }\n\n    .dataframe thead th {\n        text-align: right;\n    }\n</style>\n<table border=\"1\" class=\"dataframe\">\n  <thead>\n    <tr style=\"text-align: right;\">\n      <th></th>\n      <th>Postal Code</th>\n      <th>Borough</th>\n      <th>Neighbourhood</th>\n    </tr>\n  </thead>\n  <tbody>\n    <tr>\n      <th>0</th>\n      <td>M1A</td>\n      <td>Not assigned</td>\n      <td>Not assigned</td>\n    </tr>\n    <tr>\n      <th>1</th>\n      <td>M2A</td>\n      <td>Not assigned</td>\n      <td>Not assigned</td>\n    </tr>\n    <tr>\n      <th>2</th>\n      <td>M3A</td>\n      <td>North York</td>\n      <td>Parkwoods</td>\n    </tr>\n    <tr>\n      <th>3</th>\n      <td>M4A</td>\n      <td>North York</td>\n      <td>Victoria Village</td>\n    </tr>\n    <tr>\n      <th>4</th>\n      <td>M5A</td>\n      <td>Downtown Toronto</td>\n      <td>Regent Park, Harbourfront</td>\n    </tr>\n    <tr>\n      <th>...</th>\n      <td>...</td>\n      <td>...</td>\n      <td>...</td>\n    </tr>\n    <tr>\n      <th>175</th>\n      <td>M5Z</td>\n      <td>Not assigned</td>\n      <td>Not assigned</td>\n    </tr>\n    <tr>\n      <th>176</th>\n      <td>M6Z</td>\n      <td>Not assigned</td>\n      <td>Not assigned</td>\n    </tr>\n    <tr>\n      <th>177</th>\n      <td>M7Z</td>\n      <td>Not assigned</td>\n      <td>Not assigned</td>\n    </tr>\n    <tr>\n      <th>178</th>\n      <td>M8Z</td>\n      <td>Etobicoke</td>\n      <td>Mimico NW, The Queensway West, South of Bloor,...</td>\n    </tr>\n    <tr>\n      <th>179</th>\n      <td>M9Z</td>\n      <td>Not assigned</td>\n      <td>Not assigned</td>\n    </tr>\n  </tbody>\n</table>\n<p>180 rows \u00d7 3 columns</p>\n</div>"
                    },
                    "metadata": {}
                }
            ]
        },
        {
            "metadata": {},
            "cell_type": "markdown",
            "source": "__Drop rows were Borough is \"Not assigned\"__"
        },
        {
            "metadata": {},
            "cell_type": "code",
            "source": "df_drop = df[df.Borough != 'Not assigned'].reset_index(drop=True)\ndf_drop",
            "execution_count": 3,
            "outputs": [
                {
                    "output_type": "execute_result",
                    "execution_count": 3,
                    "data": {
                        "text/plain": "    Postal Code           Borough  \\\n0           M3A        North York   \n1           M4A        North York   \n2           M5A  Downtown Toronto   \n3           M6A        North York   \n4           M7A  Downtown Toronto   \n..          ...               ...   \n98          M8X         Etobicoke   \n99          M4Y  Downtown Toronto   \n100         M7Y      East Toronto   \n101         M8Y         Etobicoke   \n102         M8Z         Etobicoke   \n\n                                         Neighbourhood  \n0                                            Parkwoods  \n1                                     Victoria Village  \n2                            Regent Park, Harbourfront  \n3                     Lawrence Manor, Lawrence Heights  \n4          Queen's Park, Ontario Provincial Government  \n..                                                 ...  \n98       The Kingsway, Montgomery Road, Old Mill North  \n99                                Church and Wellesley  \n100  Business reply mail Processing Centre, South C...  \n101  Old Mill South, King's Mill Park, Sunnylea, Hu...  \n102  Mimico NW, The Queensway West, South of Bloor,...  \n\n[103 rows x 3 columns]",
                        "text/html": "<div>\n<style scoped>\n    .dataframe tbody tr th:only-of-type {\n        vertical-align: middle;\n    }\n\n    .dataframe tbody tr th {\n        vertical-align: top;\n    }\n\n    .dataframe thead th {\n        text-align: right;\n    }\n</style>\n<table border=\"1\" class=\"dataframe\">\n  <thead>\n    <tr style=\"text-align: right;\">\n      <th></th>\n      <th>Postal Code</th>\n      <th>Borough</th>\n      <th>Neighbourhood</th>\n    </tr>\n  </thead>\n  <tbody>\n    <tr>\n      <th>0</th>\n      <td>M3A</td>\n      <td>North York</td>\n      <td>Parkwoods</td>\n    </tr>\n    <tr>\n      <th>1</th>\n      <td>M4A</td>\n      <td>North York</td>\n      <td>Victoria Village</td>\n    </tr>\n    <tr>\n      <th>2</th>\n      <td>M5A</td>\n      <td>Downtown Toronto</td>\n      <td>Regent Park, Harbourfront</td>\n    </tr>\n    <tr>\n      <th>3</th>\n      <td>M6A</td>\n      <td>North York</td>\n      <td>Lawrence Manor, Lawrence Heights</td>\n    </tr>\n    <tr>\n      <th>4</th>\n      <td>M7A</td>\n      <td>Downtown Toronto</td>\n      <td>Queen's Park, Ontario Provincial Government</td>\n    </tr>\n    <tr>\n      <th>...</th>\n      <td>...</td>\n      <td>...</td>\n      <td>...</td>\n    </tr>\n    <tr>\n      <th>98</th>\n      <td>M8X</td>\n      <td>Etobicoke</td>\n      <td>The Kingsway, Montgomery Road, Old Mill North</td>\n    </tr>\n    <tr>\n      <th>99</th>\n      <td>M4Y</td>\n      <td>Downtown Toronto</td>\n      <td>Church and Wellesley</td>\n    </tr>\n    <tr>\n      <th>100</th>\n      <td>M7Y</td>\n      <td>East Toronto</td>\n      <td>Business reply mail Processing Centre, South C...</td>\n    </tr>\n    <tr>\n      <th>101</th>\n      <td>M8Y</td>\n      <td>Etobicoke</td>\n      <td>Old Mill South, King's Mill Park, Sunnylea, Hu...</td>\n    </tr>\n    <tr>\n      <th>102</th>\n      <td>M8Z</td>\n      <td>Etobicoke</td>\n      <td>Mimico NW, The Queensway West, South of Bloor,...</td>\n    </tr>\n  </tbody>\n</table>\n<p>103 rows \u00d7 3 columns</p>\n</div>"
                    },
                    "metadata": {}
                }
            ]
        },
        {
            "metadata": {},
            "cell_type": "markdown",
            "source": "__Group the Neighbourhoods by Boroughs__"
        },
        {
            "metadata": {},
            "cell_type": "code",
            "source": "df_group = df_drop.groupby(['Postal Code','Borough'], as_index=False).agg(lambda x: ','.join(x))\ndf_group",
            "execution_count": 4,
            "outputs": [
                {
                    "output_type": "execute_result",
                    "execution_count": 4,
                    "data": {
                        "text/plain": "    Postal Code      Borough  \\\n0           M1B  Scarborough   \n1           M1C  Scarborough   \n2           M1E  Scarborough   \n3           M1G  Scarborough   \n4           M1H  Scarborough   \n..          ...          ...   \n98          M9N         York   \n99          M9P    Etobicoke   \n100         M9R    Etobicoke   \n101         M9V    Etobicoke   \n102         M9W    Etobicoke   \n\n                                         Neighbourhood  \n0                                       Malvern, Rouge  \n1               Rouge Hill, Port Union, Highland Creek  \n2                    Guildwood, Morningside, West Hill  \n3                                               Woburn  \n4                                            Cedarbrae  \n..                                                 ...  \n98                                              Weston  \n99                                           Westmount  \n100  Kingsview Village, St. Phillips, Martin Grove ...  \n101  South Steeles, Silverstone, Humbergate, Jamest...  \n102                Northwest, West Humber - Clairville  \n\n[103 rows x 3 columns]",
                        "text/html": "<div>\n<style scoped>\n    .dataframe tbody tr th:only-of-type {\n        vertical-align: middle;\n    }\n\n    .dataframe tbody tr th {\n        vertical-align: top;\n    }\n\n    .dataframe thead th {\n        text-align: right;\n    }\n</style>\n<table border=\"1\" class=\"dataframe\">\n  <thead>\n    <tr style=\"text-align: right;\">\n      <th></th>\n      <th>Postal Code</th>\n      <th>Borough</th>\n      <th>Neighbourhood</th>\n    </tr>\n  </thead>\n  <tbody>\n    <tr>\n      <th>0</th>\n      <td>M1B</td>\n      <td>Scarborough</td>\n      <td>Malvern, Rouge</td>\n    </tr>\n    <tr>\n      <th>1</th>\n      <td>M1C</td>\n      <td>Scarborough</td>\n      <td>Rouge Hill, Port Union, Highland Creek</td>\n    </tr>\n    <tr>\n      <th>2</th>\n      <td>M1E</td>\n      <td>Scarborough</td>\n      <td>Guildwood, Morningside, West Hill</td>\n    </tr>\n    <tr>\n      <th>3</th>\n      <td>M1G</td>\n      <td>Scarborough</td>\n      <td>Woburn</td>\n    </tr>\n    <tr>\n      <th>4</th>\n      <td>M1H</td>\n      <td>Scarborough</td>\n      <td>Cedarbrae</td>\n    </tr>\n    <tr>\n      <th>...</th>\n      <td>...</td>\n      <td>...</td>\n      <td>...</td>\n    </tr>\n    <tr>\n      <th>98</th>\n      <td>M9N</td>\n      <td>York</td>\n      <td>Weston</td>\n    </tr>\n    <tr>\n      <th>99</th>\n      <td>M9P</td>\n      <td>Etobicoke</td>\n      <td>Westmount</td>\n    </tr>\n    <tr>\n      <th>100</th>\n      <td>M9R</td>\n      <td>Etobicoke</td>\n      <td>Kingsview Village, St. Phillips, Martin Grove ...</td>\n    </tr>\n    <tr>\n      <th>101</th>\n      <td>M9V</td>\n      <td>Etobicoke</td>\n      <td>South Steeles, Silverstone, Humbergate, Jamest...</td>\n    </tr>\n    <tr>\n      <th>102</th>\n      <td>M9W</td>\n      <td>Etobicoke</td>\n      <td>Northwest, West Humber - Clairville</td>\n    </tr>\n  </tbody>\n</table>\n<p>103 rows \u00d7 3 columns</p>\n</div>"
                    },
                    "metadata": {}
                }
            ]
        },
        {
            "metadata": {},
            "cell_type": "markdown",
            "source": "__If any neighbourhood row is \"Not assigned\", replace it with its Borough. Check that no \"Not assigned\" remain__"
        },
        {
            "metadata": {
                "scrolled": true
            },
            "cell_type": "code",
            "source": "mask = df_group['Neighbourhood'] == \"Not assigned\"\ndf_group.loc[mask, 'Neighbourhood'] = df_group.loc[mask, 'Borough']\ndf_group\nb = 'Not assigned'\nif b in df.Neighbourhood:\n    print('Not Assigned present')\nelse:\n    print('Not Assigned is not present')",
            "execution_count": 5,
            "outputs": [
                {
                    "output_type": "stream",
                    "text": "Not Assigned is not present\n",
                    "name": "stdout"
                }
            ]
        },
        {
            "metadata": {},
            "cell_type": "markdown",
            "source": "__Print the number of rows and columns__"
        },
        {
            "metadata": {},
            "cell_type": "code",
            "source": "df.shape",
            "execution_count": 6,
            "outputs": [
                {
                    "output_type": "execute_result",
                    "execution_count": 6,
                    "data": {
                        "text/plain": "(180, 3)"
                    },
                    "metadata": {}
                }
            ]
        },
        {
            "metadata": {},
            "cell_type": "markdown",
            "source": "## Assignment Part 2"
        },
        {
            "metadata": {},
            "cell_type": "markdown",
            "source": "__Install geocoder__"
        },
        {
            "metadata": {},
            "cell_type": "code",
            "source": "!pip install geocoder",
            "execution_count": 7,
            "outputs": [
                {
                    "output_type": "stream",
                    "text": "Requirement already satisfied: geocoder in /opt/conda/envs/Python-3.7-main/lib/python3.7/site-packages (1.38.1)\nRequirement already satisfied: future in /opt/conda/envs/Python-3.7-main/lib/python3.7/site-packages (from geocoder) (0.18.2)\nRequirement already satisfied: requests in /opt/conda/envs/Python-3.7-main/lib/python3.7/site-packages (from geocoder) (2.24.0)\nRequirement already satisfied: six in /opt/conda/envs/Python-3.7-main/lib/python3.7/site-packages (from geocoder) (1.15.0)\nRequirement already satisfied: click in /opt/conda/envs/Python-3.7-main/lib/python3.7/site-packages (from geocoder) (7.1.2)\nRequirement already satisfied: ratelim in /opt/conda/envs/Python-3.7-main/lib/python3.7/site-packages (from geocoder) (0.1.6)\nRequirement already satisfied: chardet<4,>=3.0.2 in /opt/conda/envs/Python-3.7-main/lib/python3.7/site-packages (from requests->geocoder) (3.0.4)\nRequirement already satisfied: idna<3,>=2.5 in /opt/conda/envs/Python-3.7-main/lib/python3.7/site-packages (from requests->geocoder) (2.9)\nRequirement already satisfied: urllib3!=1.25.0,!=1.25.1,<1.26,>=1.21.1 in /opt/conda/envs/Python-3.7-main/lib/python3.7/site-packages (from requests->geocoder) (1.25.9)\nRequirement already satisfied: certifi>=2017.4.17 in /opt/conda/envs/Python-3.7-main/lib/python3.7/site-packages (from requests->geocoder) (2020.12.5)\nRequirement already satisfied: decorator in /opt/conda/envs/Python-3.7-main/lib/python3.7/site-packages (from ratelim->geocoder) (4.4.2)\n",
                    "name": "stdout"
                }
            ]
        },
        {
            "metadata": {},
            "cell_type": "markdown",
            "source": "__Run geocoder to find coordinates__"
        },
        {
            "metadata": {},
            "cell_type": "code",
            "source": "import geocoder # import geocoder\npostal_code = df_group['Postal Code']\n\n# Using while Statement\nlatitude = []\nlongitude = []\nn = 0\n\nwhile n < len(postal_code):\n    g = geocoder.arcgis('{}, Toronto, Ontario'.format(postal_code[n]))\n    lat_lng_coords = g.latlng\n    print('The geograpical coordinate of {} are {}, {}.'.format(postal_code[n], lat_lng_coords[0], lat_lng_coords[1]))\n    latitude.append(lat_lng_coords[0])\n    longitude.append(lat_lng_coords[1])\n    n = n + 1\n\ndf_group['Latitude'] = latitude\ndf_group['Longitude'] = longitude",
            "execution_count": null,
            "outputs": [
                {
                    "output_type": "stream",
                    "text": "The geograpical coordinate of M1B are 43.811390000000074, -79.19661999999994.\nThe geograpical coordinate of M1C are 43.78574000000003, -79.15874999999994.\nThe geograpical coordinate of M1E are 43.765750000000025, -79.17469999999997.\nThe geograpical coordinate of M1G are 43.76812000000007, -79.21760999999998.\nThe geograpical coordinate of M1H are 43.76944000000003, -79.23891999999995.\nThe geograpical coordinate of M1J are 43.74446000000006, -79.23116999999996.\nThe geograpical coordinate of M1K are 43.725820000000056, -79.26460999999995.\nThe geograpical coordinate of M1L are 43.71289000000007, -79.28505999999999.\nThe geograpical coordinate of M1M are 43.72360000000003, -79.23495999999994.\nThe geograpical coordinate of M1N are 43.695100000000025, -79.26465999999994.\nThe geograpical coordinate of M1P are 43.75998000000004, -79.26939999999996.\nThe geograpical coordinate of M1R are 43.75075000000004, -79.30053999999996.\nThe geograpical coordinate of M1S are 43.794520000000034, -79.26707999999996.\nThe geograpical coordinate of M1T are 43.784910000000025, -79.29721999999998.\nThe geograpical coordinate of M1V are 43.817810000000065, -79.28043999999994.\nThe geograpical coordinate of M1W are 43.80079000000006, -79.32161999999994.\nThe geograpical coordinate of M1X are 43.83412000000004, -79.21667999999994.\nThe geograpical coordinate of M2H are 43.80225000000007, -79.35557999999997.\nThe geograpical coordinate of M2J are 43.780970000000025, -79.34780999999998.\nThe geograpical coordinate of M2K are 43.781120000000044, -79.38059999999996.\nThe geograpical coordinate of M2L are 43.756980000000055, -79.38059999999996.\nThe geograpical coordinate of M2M are 43.79182000000003, -79.41371999999996.\nThe geograpical coordinate of M2N are 43.76774000000006, -79.40727999999996.\nThe geograpical coordinate of M2P are 43.747780000000034, -79.40032999999994.\nThe geograpical coordinate of M2R are 43.77989000000008, -79.44677999999999.\nThe geograpical coordinate of M3A are 43.75245000000007, -79.32990999999998.\nThe geograpical coordinate of M3B are 43.74923000000007, -79.36185999999998.\nThe geograpical coordinate of M3C are 43.72168000000005, -79.34351999999996.\nThe geograpical coordinate of M3H are 43.75788000000006, -79.44846999999999.\nThe geograpical coordinate of M3J are 43.76476000000008, -79.48797999999994.\nThe geograpical coordinate of M3K are 43.73384000000004, -79.46827999999994.\nThe geograpical coordinate of M3L are 43.720710000000054, -79.51700999999997.\nThe geograpical coordinate of M3M are 43.73224000000005, -79.50177999999994.\nThe geograpical coordinate of M3N are 43.75478000000004, -79.51958999999994.\nThe geograpical coordinate of M4A are 43.73057000000006, -79.31305999999995.\nThe geograpical coordinate of M4B are 43.70718000000005, -79.31191999999999.\nThe geograpical coordinate of M4C are 43.68970000000007, -79.30681999999996.\nThe geograpical coordinate of M4E are 43.67709000000008, -79.29546999999997.\nThe geograpical coordinate of M4G are 43.709020000000066, -79.36348999999996.\nThe geograpical coordinate of M4H are 43.70142000000004, -79.34904999999998.\nThe geograpical coordinate of M4J are 43.68811000000005, -79.33417999999995.\nThe geograpical coordinate of M4K are 43.68375000000003, -79.35511999999994.\nThe geograpical coordinate of M4L are 43.667970000000025, -79.31466999999998.\nThe geograpical coordinate of M4M are 43.66213000000005, -79.33496999999994.\nThe geograpical coordinate of M4N are 43.72843000000006, -79.38712999999996.\nThe geograpical coordinate of M4P are 43.71276000000006, -79.38850999999994.\nThe geograpical coordinate of M4R are 43.71458000000007, -79.40667999999994.\nThe geograpical coordinate of M4S are 43.703400000000045, -79.38658999999996.\nThe geograpical coordinate of M4T are 43.690480000000036, -79.38317999999998.\nThe geograpical coordinate of M4V are 43.68568000000005, -79.40236999999996.\nThe geograpical coordinate of M4W are 43.68190000000004, -79.37828999999994.\nThe geograpical coordinate of M4X are 43.667880000000025, -79.36648999999994.\nThe geograpical coordinate of M4Y are 43.66659000000004, -79.38132999999993.\nThe geograpical coordinate of M5A are 43.65512000000007, -79.36263999999994.\nThe geograpical coordinate of M5B are 43.65739000000008, -79.37803999999994.\nThe geograpical coordinate of M5C are 43.65215000000006, -79.37586999999996.\nThe geograpical coordinate of M5E are 43.64536000000004, -79.37305999999995.\nThe geograpical coordinate of M5G are 43.65609000000006, -79.38492999999994.\nThe geograpical coordinate of M5H are 43.64970000000005, -79.38257999999996.\nThe geograpical coordinate of M5J are 43.64285000000007, -79.38075999999995.\nThe geograpical coordinate of M5K are 43.64710000000008, -79.38152999999994.\nThe geograpical coordinate of M5L are 43.64840000000004, -79.37913999999995.\nThe geograpical coordinate of M5M are 43.73545000000007, -79.41915999999998.\nThe geograpical coordinate of M5N are 43.71208000000007, -79.41847999999999.\nThe geograpical coordinate of M5P are 43.69479000000007, -79.41439999999994.\nThe geograpical coordinate of M5R are 43.674840000000074, -79.40451999999993.\nThe geograpical coordinate of M5S are 43.663110000000074, -79.40179999999998.\nThe geograpical coordinate of M5T are 43.65351000000004, -79.39721999999995.\nThe geograpical coordinate of M5V are 43.640820000000076, -79.39817999999997.\nThe geograpical coordinate of M5W are 43.648690000000045, -79.38543999999996.\nThe geograpical coordinate of M5X are 43.64828000000006, -79.38145999999995.\nThe geograpical coordinate of M6A are 43.72327000000007, -79.45041999999995.\nThe geograpical coordinate of M6B are 43.70687000000004, -79.44811999999996.\nThe geograpical coordinate of M6C are 43.69211000000007, -79.43035999999995.\nThe geograpical coordinate of M6E are 43.68784000000005, -79.45045999999996.\nThe geograpical coordinate of M6G are 43.668690000000026, -79.42070999999999.\nThe geograpical coordinate of M6H are 43.665050000000065, -79.43890999999996.\nThe geograpical coordinate of M6J are 43.64848000000006, -79.41773999999998.\nThe geograpical coordinate of M6K are 43.639410000000055, -79.42675999999994.\nThe geograpical coordinate of M6L are 43.71381000000008, -79.48873999999995.\nThe geograpical coordinate of M6M are 43.695170000000076, -79.48396999999994.\nThe geograpical coordinate of M6N are 43.67646000000008, -79.48271999999997.\nThe geograpical coordinate of M6P are 43.659730000000025, -79.46280999999993.\nThe geograpical coordinate of M6R are 43.64777000000004, -79.44988999999998.\nThe geograpical coordinate of M6S are 43.649820000000034, -79.47547999999995.\nThe geograpical coordinate of M7A are 43.66253000000006, -79.39187999999996.\nThe geograpical coordinate of M7R are 43.648690000000045, -79.38543999999996.\nThe geograpical coordinate of M7Y are 43.648690000000045, -79.38543999999996.\nThe geograpical coordinate of M8V are 43.60987000000006, -79.49808999999993.\nThe geograpical coordinate of M8W are 43.601240000000075, -79.53878999999995.\nThe geograpical coordinate of M8X are 43.65319000000005, -79.51112999999998.\nThe geograpical coordinate of M8Y are 43.632780000000025, -79.48944999999998.\nThe geograpical coordinate of M8Z are 43.62513000000007, -79.52680999999995.\nThe geograpical coordinate of M9A are 43.662630000000036, -79.52830999999998.\nThe geograpical coordinate of M9B are 43.65034000000003, -79.55361999999997.\nThe geograpical coordinate of M9C are 43.64857000000006, -79.57824999999997.\nThe geograpical coordinate of M9L are 43.75948000000005, -79.55706999999995.\nThe geograpical coordinate of M9M are 43.733670000000075, -79.53768999999994.\n",
                    "name": "stdout"
                }
            ]
        },
        {
            "metadata": {},
            "cell_type": "markdown",
            "source": "__Display header for dataframe__"
        },
        {
            "metadata": {},
            "cell_type": "code",
            "source": "df_group.head(12)",
            "execution_count": null,
            "outputs": []
        },
        {
            "metadata": {},
            "cell_type": "markdown",
            "source": "## Assignment Part 3"
        },
        {
            "metadata": {},
            "cell_type": "markdown",
            "source": "__Install and load necessary packages__"
        },
        {
            "metadata": {},
            "cell_type": "code",
            "source": "!pip install folium\nimport folium # plotting library\nfrom bs4 import BeautifulSoup\nfrom sklearn.cluster import KMeans\nimport matplotlib.cm as cm\nimport matplotlib.colors as colors\nimport numpy as np",
            "execution_count": null,
            "outputs": []
        },
        {
            "metadata": {},
            "cell_type": "markdown",
            "source": "__Generate map__"
        },
        {
            "metadata": {},
            "cell_type": "code",
            "source": "map_toronto = folium.Map(location=[43.651070,-79.347015],zoom_start=10)\n\nfor lat,lng,borough,neighbourhood in zip(df_group['Latitude'],df_group['Longitude'],df_group['Borough'],df_group['Neighbourhood']):\n    label = '{}, {}'.format(neighbourhood, borough)\n    label = folium.Popup(label, parse_html=True)\n    folium.CircleMarker(\n    [lat,lng],\n    radius=5,\n    popup=label,\n    color='blue',\n    fill=True,\n    fill_color='#3186cc',\n    fill_opacity=0.7,\n    parse_html=False).add_to(map_toronto)\nmap_toronto",
            "execution_count": null,
            "outputs": []
        },
        {
            "metadata": {},
            "cell_type": "markdown",
            "source": "__Use KMeans clustering to cluster neighbourhoods__"
        },
        {
            "metadata": {},
            "cell_type": "code",
            "source": "k=5\ntoronto_clustering = df_group.drop(['Postal Code','Borough','Neighbourhood'],1)\nkmeans = KMeans(n_clusters = k,random_state=0).fit(toronto_clustering)\nkmeans.labels_\ndf_group.insert(0, 'Cluster Labels', kmeans.labels_)",
            "execution_count": null,
            "outputs": []
        },
        {
            "metadata": {},
            "cell_type": "code",
            "source": "df_group.head(12)",
            "execution_count": null,
            "outputs": []
        },
        {
            "metadata": {},
            "cell_type": "markdown",
            "source": "__Generate map with clustered neighbourhoods__"
        },
        {
            "metadata": {},
            "cell_type": "code",
            "source": "# create map\nmap_clusters = folium.Map(location=[43.651070,-79.347015],zoom_start=10)\n\n# set color scheme for the clusters\nx = np.arange(k)\nys = [i + x + (i*x)**2 for i in range(k)]\ncolors_array = cm.rainbow(np.linspace(0, 1, len(ys)))\nrainbow = [colors.rgb2hex(i) for i in colors_array]\n\n# add markers to the map\nmarkers_colors = []\nfor lat, lon, neighbourhood, cluster in zip(df_group['Latitude'], df_group['Longitude'], df_group['Neighbourhood'], df_group['Cluster Labels']):\n    label = folium.Popup(' Cluster ' + str(cluster), parse_html=True)\n    folium.CircleMarker(\n        [lat, lon],\n        radius=5,\n        popup=label,\n        color=rainbow[cluster-1],\n        fill=True,\n        fill_color=rainbow[cluster-1],\n        fill_opacity=0.7).add_to(map_clusters)\n       \nmap_clusters",
            "execution_count": null,
            "outputs": []
        }
    ],
    "metadata": {
        "kernelspec": {
            "name": "python3",
            "display_name": "Python 3.7",
            "language": "python"
        },
        "language_info": {
            "name": "python",
            "version": "3.7.9",
            "mimetype": "text/x-python",
            "codemirror_mode": {
                "name": "ipython",
                "version": 3
            },
            "pygments_lexer": "ipython3",
            "nbconvert_exporter": "python",
            "file_extension": ".py"
        }
    },
    "nbformat": 4,
    "nbformat_minor": 1
}